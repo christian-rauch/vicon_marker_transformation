{
 "cells": [
  {
   "cell_type": "code",
   "execution_count": null,
   "metadata": {
    "collapsed": false
   },
   "outputs": [],
   "source": [
    "from PyKDL import Rotation\n",
    "from urdf_parser_py.urdf import URDF\n",
    "from pykdl_utils.kdl_kinematics import KDLKinematics\n",
    "\n",
    "import numpy as np\n",
    "import math\n",
    "from scipy import interpolate\n",
    "from scipy.optimize import leastsq, least_squares\n",
    "\n",
    "import lcm\n",
    "from bot_core import *"
   ]
  },
  {
   "cell_type": "code",
   "execution_count": null,
   "metadata": {
    "collapsed": true
   },
   "outputs": [],
   "source": [
    "# https://en.wikipedia.org/wiki/Conversion_between_quaternions_and_Euler_angles#Euler_Angles_from_Quaternion\n",
    "def quat_to_euler(q):\n",
    "    qq = q[1]*q[2] + q[3]*q[0]\n",
    "    if abs(qq)>(0.5-0.05):\n",
    "        print \"qq\",qq\n",
    "    phi = math.atan2( (2*(q[0]*q[1]+q[2]*q[3])) , (1-2*(q[1]**2 + q[2]**2)) )\n",
    "    theta = math.asin( 2*(q[0]*q[2]-q[3]*q[1]))\n",
    "    psi = math.atan2( (2*(q[0]*q[3] + q[1]*q[2])) , (1-2*(q[2]**2 + q[3]**2)) )\n",
    "    return phi, theta, psi"
   ]
  },
  {
   "cell_type": "code",
   "execution_count": null,
   "metadata": {
    "collapsed": true
   },
   "outputs": [],
   "source": [
    "def get_joint_map(names,values):\n",
    "    jmap = {}\n",
    "    for i in range(len(names)):\n",
    "        jmap[names[i]] = values[i]\n",
    "    return jmap"
   ]
  },
  {
   "cell_type": "code",
   "execution_count": null,
   "metadata": {
    "collapsed": true
   },
   "outputs": [],
   "source": [
    "def joints_from_lcm(file_path, chain_joints):\n",
    "\n",
    "    joints = []\n",
    "\n",
    "    log = lcm.EventLog(file_path, 'r')\n",
    "    for event in log:\n",
    "        if event.channel == \"EST_ROBOT_STATE\":\n",
    "            v = []\n",
    "            rs = robot_state_t.decode(event.data)\n",
    "            v.append(rs.utime)\n",
    "            jmap = get_joint_map(rs.joint_name, rs.joint_position)\n",
    "\n",
    "            for j in chain_joints:\n",
    "                v.append(jmap[j])\n",
    "            joints.append(v)\n",
    "\n",
    "    return joints"
   ]
  },
  {
   "cell_type": "code",
   "execution_count": null,
   "metadata": {
    "collapsed": true
   },
   "outputs": [],
   "source": [
    "def pose_from_lcm(file_path):\n",
    "\n",
    "    poses = []\n",
    "\n",
    "    log = lcm.EventLog(file_path, 'r')\n",
    "    for event in log:\n",
    "        if event.channel == \"VICON_VAL_HAND_POSE\":\n",
    "            pose = rigid_transform_t.decode(event.data)\n",
    "            [x,y,z] = pose.trans\n",
    "            # Euler\n",
    "            [phi, theta, psi] = quat_to_euler(pose.quat)\n",
    "            poses.append([pose.utime,x,y,z,phi,theta,psi])\n",
    "            # quaternion\n",
    "#             [qw,qx,qy,qz] = pose.quat\n",
    "#             poses.append([pose.utime,x,y,z,qw,qx,qy,qz])\n",
    "\n",
    "    return poses"
   ]
  },
  {
   "cell_type": "code",
   "execution_count": null,
   "metadata": {
    "collapsed": true
   },
   "outputs": [],
   "source": [
    "# interpolate\n",
    "# use ref as the reference timestamps, e.g. the timestamps of the final synchronized signal\n",
    "def interp(ref, target):\n",
    "    t = target[:,0]\n",
    "    p = target[:,1:]\n",
    "    p_sync = []\n",
    "    for i in range(p.shape[1]):\n",
    "        f = interpolate.interp1d(t, p[:,i], axis=0)\n",
    "        sync = f(ref)\n",
    "        p_sync.append(sync)\n",
    "    return ref, np.array(p_sync).T"
   ]
  },
  {
   "cell_type": "code",
   "execution_count": null,
   "metadata": {
    "collapsed": false
   },
   "outputs": [],
   "source": [
    "def pose_diff(q_offset, fk, q_rep, true_pose):\n",
    "    q_new = q_rep + q_offset\n",
    "    pose = kdl_kin.forward(q_new)\n",
    "    fk_rot = Rotation(pose[0,0], pose[0,1], pose[0,2],\n",
    "                     pose[1,0], pose[1,1], pose[1,2],\n",
    "                     pose[2,0], pose[2,1], pose[2,2])\n",
    "    # Euler\n",
    "    [r,p,y] = fk_rot.GetRPY()\n",
    "    fk_pose = np.array([pose[0:3,3].T.tolist()[0], [r, p, y]]).flatten()\n",
    "    \n",
    "    # quaternion\n",
    "#     [x,y,z,w] = fk_rot.GetQuaternion() # note different notation\n",
    "#     p = [pose[0:3,3].T.tolist()[0], [w,x,y,z]]\n",
    "#     fk_pose = [item for sublist in p for item in sublist]\n",
    "    \n",
    "    err = np.linalg.norm(true_pose-fk_pose)\n",
    "    #print \"err\",err\n",
    "    #err = true_pose-fk_pose\n",
    "    return err"
   ]
  },
  {
   "cell_type": "code",
   "execution_count": null,
   "metadata": {
    "collapsed": false
   },
   "outputs": [],
   "source": [
    "# error over all synchronized samples\n",
    "def obj_funct(q_offset, joints_sync, poses_sync, fk):\n",
    "    assert(joints_sync.shape[0]==poses_sync.shape[0])\n",
    "    sum_err = 0\n",
    "    for i in range(joints_sync.shape[0]):\n",
    "        q_rep = joints_sync[i,:]\n",
    "        true_pose = poses_sync[i,:]\n",
    "        err = pose_diff(q_offset, fk, q_rep, true_pose)\n",
    "        sum_err += err\n",
    "    return sum_err"
   ]
  },
  {
   "cell_type": "code",
   "execution_count": null,
   "metadata": {
    "collapsed": false,
    "scrolled": true
   },
   "outputs": [],
   "source": [
    "robot = URDF.from_xml_file(\"/home/christian/Development/oh-distro-private/software/models/val_description/urdf/valkyrie_sim.urdf\")\n",
    "kdl_kin = KDLKinematics(robot, \"pelvis\", \"leftPalm\")"
   ]
  },
  {
   "cell_type": "code",
   "execution_count": null,
   "metadata": {
    "collapsed": false
   },
   "outputs": [],
   "source": [
    "chain_joints = kdl_kin.get_joint_names()\n",
    "print \"joints in chain:\",chain_joints"
   ]
  },
  {
   "cell_type": "code",
   "execution_count": null,
   "metadata": {
    "collapsed": false
   },
   "outputs": [],
   "source": [
    "joints = joints_from_lcm(\"/home/christian/Downloads/logs/20160727_cr-hand-movement-with-vicon-marker/vicon-arm_movement.lcmlog\", chain_joints)\n",
    "joints = np.array(joints)\n",
    "print \"joints dim:\",joints.shape"
   ]
  },
  {
   "cell_type": "code",
   "execution_count": null,
   "metadata": {
    "collapsed": false
   },
   "outputs": [],
   "source": [
    "#poses = pose_from_lcm(\"/home/christian/Downloads/logs/dart_vicon_comp/hand_poses/out_arm_vicon_nop.lcmlog\")\n",
    "poses = pose_from_lcm(\"/home/christian/Downloads/logs/dart_vicon_comp/out_arm_vicon_nop.lcmlog\")\n",
    "poses = np.array(poses)\n",
    "print \"pose dim:\",poses.shape"
   ]
  },
  {
   "cell_type": "code",
   "execution_count": null,
   "metadata": {
    "collapsed": false
   },
   "outputs": [],
   "source": [
    "poses[0,:]"
   ]
  },
  {
   "cell_type": "code",
   "execution_count": null,
   "metadata": {
    "collapsed": false
   },
   "outputs": [],
   "source": [
    "tref = poses[:-1,0] # ignore last element\n",
    "print \"ref min max\",min(tref), max(tref)\n",
    "print \"tar min max\",min(joints[:,0]), max(joints[:,0])\n",
    "print min(tref) < min(joints[:,0])\n",
    "print max(tref) > max(joints[:,0])"
   ]
  },
  {
   "cell_type": "code",
   "execution_count": null,
   "metadata": {
    "collapsed": false
   },
   "outputs": [],
   "source": [
    "# synchronize data\n",
    "t_sync, joints_sync = interp(tref, joints)\n",
    "poses_sync = poses[:-1,1:]"
   ]
  },
  {
   "cell_type": "code",
   "execution_count": null,
   "metadata": {
    "collapsed": false
   },
   "outputs": [],
   "source": [
    "print joints_sync.shape\n",
    "print t_sync.shape\n",
    "print len(t_sync)\n",
    "print poses_sync.shape"
   ]
  },
  {
   "cell_type": "code",
   "execution_count": null,
   "metadata": {
    "collapsed": false
   },
   "outputs": [],
   "source": [
    "q_init = np.zeros((len(chain_joints)))\n",
    "#print q_init.shape\n",
    "opt_offset = least_squares(fun=obj_funct, x0=q_init, args=(joints_sync, poses_sync, kdl_kin))"
   ]
  },
  {
   "cell_type": "code",
   "execution_count": null,
   "metadata": {
    "collapsed": false
   },
   "outputs": [],
   "source": [
    "opt_offset"
   ]
  },
  {
   "cell_type": "code",
   "execution_count": null,
   "metadata": {
    "collapsed": false
   },
   "outputs": [],
   "source": [
    "opt_offset.x"
   ]
  },
  {
   "cell_type": "code",
   "execution_count": null,
   "metadata": {
    "collapsed": false
   },
   "outputs": [],
   "source": [
    "chain_joints"
   ]
  },
  {
   "cell_type": "code",
   "execution_count": null,
   "metadata": {
    "collapsed": false
   },
   "outputs": [],
   "source": [
    "obj_funct(opt_offset.x, joints_sync, poses_sync, kdl_kin)"
   ]
  },
  {
   "cell_type": "code",
   "execution_count": null,
   "metadata": {
    "collapsed": false
   },
   "outputs": [],
   "source": [
    "obj_funct(q_init, joints_sync, poses_sync, kdl_kin)"
   ]
  },
  {
   "cell_type": "code",
   "execution_count": null,
   "metadata": {
    "collapsed": true
   },
   "outputs": [],
   "source": []
  }
 ],
 "metadata": {
  "kernelspec": {
   "display_name": "Python 2",
   "language": "python",
   "name": "python2"
  },
  "language_info": {
   "codemirror_mode": {
    "name": "ipython",
    "version": 2
   },
   "file_extension": ".py",
   "mimetype": "text/x-python",
   "name": "python",
   "nbconvert_exporter": "python",
   "pygments_lexer": "ipython2",
   "version": "2.7.6"
  }
 },
 "nbformat": 4,
 "nbformat_minor": 0
}
